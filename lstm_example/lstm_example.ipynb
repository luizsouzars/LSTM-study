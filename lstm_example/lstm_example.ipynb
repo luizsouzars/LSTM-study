{
 "cells": [
  {
   "cell_type": "code",
   "execution_count": 1,
   "metadata": {},
   "outputs": [],
   "source": [
    "import torch\n",
    "import torch.nn as nn\n",
    "import numpy as np\n",
    "import pandas as pd\n",
    "import matplotlib.pyplot as plt\n",
    "from sklearn.preprocessing import MinMaxScaler\n",
    "\n",
    "import warnings\n",
    "warnings.filterwarnings(\"ignore\")"
   ]
  },
  {
   "cell_type": "code",
   "execution_count": 2,
   "metadata": {},
   "outputs": [],
   "source": [
    "# Carregar os dados\n",
    "data = pd.read_csv('./data/indexProcessed.csv')\n",
    "\n",
    "# Pré-processamento dos dados\n",
    "prices = data['Close'].values.astype(float)\n",
    "prices = prices.reshape(-1, 1)  # Reshape para (n_samples, 1)\n",
    "\n",
    "# Normalização dos dados\n",
    "scaler = MinMaxScaler(feature_range=(-1, 1))\n",
    "prices_normalized = scaler.fit_transform(prices)"
   ]
  },
  {
   "cell_type": "code",
   "execution_count": 3,
   "metadata": {},
   "outputs": [],
   "source": [
    "# Dividir os dados em sequências de entrada e saída\n",
    "def create_sequences(data, seq_length):\n",
    "    sequences = []\n",
    "    for i in range(len(data) - seq_length):\n",
    "        seq = data[i:i+seq_length]\n",
    "        label = data[i+seq_length]\n",
    "        sequences.append((seq, label))\n",
    "    return sequences\n",
    "\n",
    "seq_length = 10\n",
    "sequences = create_sequences(prices_normalized, seq_length)\n",
    "\n",
    "# Dividir os dados em conjuntos de treinamento e teste\n",
    "split_ratio = 0.8\n",
    "split = int(split_ratio * len(sequences))\n",
    "train_data = sequences[:split]\n",
    "test_data = sequences[split:]"
   ]
  },
  {
   "cell_type": "code",
   "execution_count": 4,
   "metadata": {},
   "outputs": [],
   "source": [
    "# Definir o modelo LSTM\n",
    "class LSTMModel(nn.Module):\n",
    "    def __init__(self, input_size, hidden_size, output_size):\n",
    "        super(LSTMModel, self).__init__()\n",
    "        self.lstm = nn.LSTM(input_size, hidden_size, batch_first=True)\n",
    "        self.fc = nn.Linear(hidden_size, output_size)\n",
    "        \n",
    "    def forward(self, x):\n",
    "        out, _ = self.lstm(x)\n",
    "        out = self.fc(out[:, -1, :])\n",
    "        return out\n",
    "\n",
    "input_size = 1\n",
    "hidden_size = 32\n",
    "output_size = 1\n",
    "model = LSTMModel(input_size, hidden_size, output_size)\n",
    "\n",
    "# Definir a função de perda e otimizador\n",
    "criterion = nn.MSELoss()\n",
    "optimizer = torch.optim.Adam(model.parameters(), lr=0.001)"
   ]
  },
  {
   "cell_type": "code",
   "execution_count": 5,
   "metadata": {},
   "outputs": [
    {
     "name": "stderr",
     "output_type": "stream",
     "text": [
      "/opt/anaconda3/envs/prof2/lib/python3.11/site-packages/torch/nn/modules/loss.py:535: UserWarning: Using a target size (torch.Size([1])) that is different to the input size (torch.Size([1, 1])). This will likely lead to incorrect results due to broadcasting. Please ensure they have the same size.\n",
      "  return F.mse_loss(input, target, reduction=self.reduction)\n"
     ]
    },
    {
     "name": "stdout",
     "output_type": "stream",
     "text": [
      "Epoch [1/20], Loss: 4.518412606557831e-05ß\n",
      "Epoch [2/20], Loss: 2.1341240426409058e-05ß\n",
      "Epoch [3/20], Loss: 7.205280780908652e-06ß\n",
      "Epoch [4/20], Loss: 3.7408772186608985e-05ß\n",
      "Epoch [5/20], Loss: 3.8076679629739374e-05ß\n",
      "Epoch [6/20], Loss: 3.504808046272956e-05ß\n"
     ]
    }
   ],
   "source": [
    "# Treinar o modelo\n",
    "num_epochs = 20\n",
    "for epoch in range(num_epochs):\n",
    "    for seq, labels in train_data:\n",
    "        seq = torch.FloatTensor(seq).unsqueeze(0)\n",
    "        labels = torch.FloatTensor(labels)\n",
    "        \n",
    "        optimizer.zero_grad()\n",
    "        output = model(seq)\n",
    "        loss = criterion(output, labels)\n",
    "        loss.backward()\n",
    "        optimizer.step()\n",
    "    \n",
    "    print(f'Epoch [{epoch+1}/{num_epochs}], Loss: {loss.item()}ß')"
   ]
  },
  {
   "cell_type": "code",
   "execution_count": null,
   "metadata": {},
   "outputs": [],
   "source": [
    "# Avaliar o modelo\n",
    "model.eval()\n",
    "predictions = []\n",
    "with torch.no_grad():\n",
    "    for seq, _ in test_data:\n",
    "        seq = torch.FloatTensor(seq).unsqueeze(0)\n",
    "        pred = model(seq).item()\n",
    "        predictions.append(pred)\n",
    "\n",
    "# Desnormalizar as previsões\n",
    "predictions = scaler.inverse_transform(np.array(predictions).reshape(-1, 1))"
   ]
  },
  {
   "cell_type": "code",
   "execution_count": null,
   "metadata": {},
   "outputs": [],
   "source": [
    "# Plotar os resultados\n",
    "plt.figure(figsize=(12, 6))\n",
    "plt.plot(data['Close'].values, label='Actual Prices')\n",
    "plt.plot(np.arange(split+seq_length, len(data['Close'])), predictions, label='Predicted Prices')\n",
    "plt.title('Stock Price Prediction using LSTM')\n",
    "plt.xlabel('Time')\n",
    "plt.ylabel('Stock Price')\n",
    "plt.legend()\n",
    "plt.show()"
   ]
  }
 ],
 "metadata": {
  "kernelspec": {
   "display_name": "prof2",
   "language": "python",
   "name": "python3"
  },
  "language_info": {
   "codemirror_mode": {
    "name": "ipython",
    "version": 3
   },
   "file_extension": ".py",
   "mimetype": "text/x-python",
   "name": "python",
   "nbconvert_exporter": "python",
   "pygments_lexer": "ipython3",
   "version": "3.11.8"
  }
 },
 "nbformat": 4,
 "nbformat_minor": 2
}
